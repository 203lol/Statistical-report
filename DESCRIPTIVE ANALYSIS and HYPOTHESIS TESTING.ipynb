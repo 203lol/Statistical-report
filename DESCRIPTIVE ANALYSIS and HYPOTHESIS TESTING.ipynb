{
 "cells": [
  {
   "cell_type": "code",
   "execution_count": 1,
   "id": "14ec1cdf",
   "metadata": {},
   "outputs": [],
   "source": [
    "import pandas as pd\n",
    "import matplotlib.pyplot as plt\n",
    "import seaborn as sns\n",
    "import scipy.stats as stats\n",
    "from scipy.stats import ttest_ind,chi2_contingency"
   ]
  },
  {
   "cell_type": "code",
   "execution_count": 2,
   "id": "a629f541",
   "metadata": {},
   "outputs": [],
   "source": [
    "df=pd.read_csv('movies.csv', sep=\",\")"
   ]
  },
  {
   "cell_type": "code",
   "execution_count": 3,
   "id": "81e5a185",
   "metadata": {},
   "outputs": [
    {
     "data": {
      "text/html": [
       "<div>\n",
       "<style scoped>\n",
       "    .dataframe tbody tr th:only-of-type {\n",
       "        vertical-align: middle;\n",
       "    }\n",
       "\n",
       "    .dataframe tbody tr th {\n",
       "        vertical-align: top;\n",
       "    }\n",
       "\n",
       "    .dataframe thead th {\n",
       "        text-align: right;\n",
       "    }\n",
       "</style>\n",
       "<table border=\"1\" class=\"dataframe\">\n",
       "  <thead>\n",
       "    <tr style=\"text-align: right;\">\n",
       "      <th></th>\n",
       "      <th>Unnamed: 0</th>\n",
       "      <th>ID</th>\n",
       "      <th>Title</th>\n",
       "      <th>Year</th>\n",
       "      <th>Age</th>\n",
       "      <th>Rotten Tomatoes</th>\n",
       "      <th>Netflix</th>\n",
       "      <th>Hulu</th>\n",
       "      <th>Prime Video</th>\n",
       "      <th>Disney+</th>\n",
       "      <th>Type</th>\n",
       "    </tr>\n",
       "  </thead>\n",
       "  <tbody>\n",
       "    <tr>\n",
       "      <th>0</th>\n",
       "      <td>0</td>\n",
       "      <td>1</td>\n",
       "      <td>The Irishman</td>\n",
       "      <td>2019</td>\n",
       "      <td>18+</td>\n",
       "      <td>98/100</td>\n",
       "      <td>1</td>\n",
       "      <td>0</td>\n",
       "      <td>0</td>\n",
       "      <td>0</td>\n",
       "      <td>0</td>\n",
       "    </tr>\n",
       "    <tr>\n",
       "      <th>1</th>\n",
       "      <td>1</td>\n",
       "      <td>2</td>\n",
       "      <td>Dangal</td>\n",
       "      <td>2016</td>\n",
       "      <td>7+</td>\n",
       "      <td>97/100</td>\n",
       "      <td>1</td>\n",
       "      <td>0</td>\n",
       "      <td>0</td>\n",
       "      <td>0</td>\n",
       "      <td>0</td>\n",
       "    </tr>\n",
       "    <tr>\n",
       "      <th>2</th>\n",
       "      <td>2</td>\n",
       "      <td>3</td>\n",
       "      <td>David Attenborough: A Life on Our Planet</td>\n",
       "      <td>2020</td>\n",
       "      <td>7+</td>\n",
       "      <td>95/100</td>\n",
       "      <td>1</td>\n",
       "      <td>0</td>\n",
       "      <td>0</td>\n",
       "      <td>0</td>\n",
       "      <td>0</td>\n",
       "    </tr>\n",
       "    <tr>\n",
       "      <th>3</th>\n",
       "      <td>3</td>\n",
       "      <td>4</td>\n",
       "      <td>Lagaan: Once Upon a Time in India</td>\n",
       "      <td>2001</td>\n",
       "      <td>7+</td>\n",
       "      <td>94/100</td>\n",
       "      <td>1</td>\n",
       "      <td>0</td>\n",
       "      <td>0</td>\n",
       "      <td>0</td>\n",
       "      <td>0</td>\n",
       "    </tr>\n",
       "    <tr>\n",
       "      <th>4</th>\n",
       "      <td>4</td>\n",
       "      <td>5</td>\n",
       "      <td>Roma</td>\n",
       "      <td>2018</td>\n",
       "      <td>18+</td>\n",
       "      <td>94/100</td>\n",
       "      <td>1</td>\n",
       "      <td>0</td>\n",
       "      <td>0</td>\n",
       "      <td>0</td>\n",
       "      <td>0</td>\n",
       "    </tr>\n",
       "  </tbody>\n",
       "</table>\n",
       "</div>"
      ],
      "text/plain": [
       "   Unnamed: 0  ID                                     Title  Year  Age  \\\n",
       "0           0   1                              The Irishman  2019  18+   \n",
       "1           1   2                                    Dangal  2016   7+   \n",
       "2           2   3  David Attenborough: A Life on Our Planet  2020   7+   \n",
       "3           3   4         Lagaan: Once Upon a Time in India  2001   7+   \n",
       "4           4   5                                      Roma  2018  18+   \n",
       "\n",
       "  Rotten Tomatoes  Netflix  Hulu  Prime Video  Disney+  Type  \n",
       "0          98/100        1     0            0        0     0  \n",
       "1          97/100        1     0            0        0     0  \n",
       "2          95/100        1     0            0        0     0  \n",
       "3          94/100        1     0            0        0     0  \n",
       "4          94/100        1     0            0        0     0  "
      ]
     },
     "execution_count": 3,
     "metadata": {},
     "output_type": "execute_result"
    }
   ],
   "source": [
    "df.head()"
   ]
  },
  {
   "cell_type": "code",
   "execution_count": 4,
   "id": "d7eb3684",
   "metadata": {},
   "outputs": [],
   "source": [
    "df_filtered = df[(df['Netflix'] == 1) | (df['Disney+'] == 1)]"
   ]
  },
  {
   "cell_type": "code",
   "execution_count": 5,
   "id": "2d8e7acb",
   "metadata": {},
   "outputs": [],
   "source": [
    "df_filtered = df_filtered[['Title', 'Year', 'Age', 'Rotten Tomatoes', 'Netflix', 'Disney+']]"
   ]
  },
  {
   "cell_type": "code",
   "execution_count": 6,
   "id": "9166f38b",
   "metadata": {},
   "outputs": [
    {
     "data": {
      "text/html": [
       "<div>\n",
       "<style scoped>\n",
       "    .dataframe tbody tr th:only-of-type {\n",
       "        vertical-align: middle;\n",
       "    }\n",
       "\n",
       "    .dataframe tbody tr th {\n",
       "        vertical-align: top;\n",
       "    }\n",
       "\n",
       "    .dataframe thead th {\n",
       "        text-align: right;\n",
       "    }\n",
       "</style>\n",
       "<table border=\"1\" class=\"dataframe\">\n",
       "  <thead>\n",
       "    <tr style=\"text-align: right;\">\n",
       "      <th></th>\n",
       "      <th>Title</th>\n",
       "      <th>Year</th>\n",
       "      <th>Age</th>\n",
       "      <th>Rotten Tomatoes</th>\n",
       "      <th>Netflix</th>\n",
       "      <th>Disney+</th>\n",
       "    </tr>\n",
       "  </thead>\n",
       "  <tbody>\n",
       "    <tr>\n",
       "      <th>0</th>\n",
       "      <td>The Irishman</td>\n",
       "      <td>2019</td>\n",
       "      <td>18+</td>\n",
       "      <td>98/100</td>\n",
       "      <td>1</td>\n",
       "      <td>0</td>\n",
       "    </tr>\n",
       "    <tr>\n",
       "      <th>1</th>\n",
       "      <td>Dangal</td>\n",
       "      <td>2016</td>\n",
       "      <td>7+</td>\n",
       "      <td>97/100</td>\n",
       "      <td>1</td>\n",
       "      <td>0</td>\n",
       "    </tr>\n",
       "    <tr>\n",
       "      <th>2</th>\n",
       "      <td>David Attenborough: A Life on Our Planet</td>\n",
       "      <td>2020</td>\n",
       "      <td>7+</td>\n",
       "      <td>95/100</td>\n",
       "      <td>1</td>\n",
       "      <td>0</td>\n",
       "    </tr>\n",
       "    <tr>\n",
       "      <th>3</th>\n",
       "      <td>Lagaan: Once Upon a Time in India</td>\n",
       "      <td>2001</td>\n",
       "      <td>7+</td>\n",
       "      <td>94/100</td>\n",
       "      <td>1</td>\n",
       "      <td>0</td>\n",
       "    </tr>\n",
       "    <tr>\n",
       "      <th>4</th>\n",
       "      <td>Roma</td>\n",
       "      <td>2018</td>\n",
       "      <td>18+</td>\n",
       "      <td>94/100</td>\n",
       "      <td>1</td>\n",
       "      <td>0</td>\n",
       "    </tr>\n",
       "  </tbody>\n",
       "</table>\n",
       "</div>"
      ],
      "text/plain": [
       "                                      Title  Year  Age Rotten Tomatoes  \\\n",
       "0                              The Irishman  2019  18+          98/100   \n",
       "1                                    Dangal  2016   7+          97/100   \n",
       "2  David Attenborough: A Life on Our Planet  2020   7+          95/100   \n",
       "3         Lagaan: Once Upon a Time in India  2001   7+          94/100   \n",
       "4                                      Roma  2018  18+          94/100   \n",
       "\n",
       "   Netflix  Disney+  \n",
       "0        1        0  \n",
       "1        1        0  \n",
       "2        1        0  \n",
       "3        1        0  \n",
       "4        1        0  "
      ]
     },
     "execution_count": 6,
     "metadata": {},
     "output_type": "execute_result"
    }
   ],
   "source": [
    "df_filtered.head()"
   ]
  },
  {
   "cell_type": "code",
   "execution_count": 7,
   "id": "26540954",
   "metadata": {},
   "outputs": [],
   "source": [
    "df_disney = df_filtered[df_filtered['Disney+'] == 1]\n",
    "df_netflix = df_filtered[df_filtered['Netflix'] == 1]"
   ]
  },
  {
   "cell_type": "code",
   "execution_count": 8,
   "id": "3d053815",
   "metadata": {},
   "outputs": [
    {
     "name": "stdout",
     "output_type": "stream",
     "text": [
      "=== Age Distribution on Disney+ ===\n",
      "7+: 278 movies\n",
      "13+: 70 movies\n",
      "16+: 4 movies\n",
      "18+: 3 movies\n",
      "all: 370 movies\n",
      "\n",
      "=== Age Distribution on Netflix ===\n",
      "7+: 322 movies\n",
      "13+: 404 movies\n",
      "16+: 151 movies\n",
      "18+: 877 movies\n",
      "all: 144 movies\n",
      "\n",
      "=== Age Restrictions Statistics by Platform Combination ===\n",
      "                count unique  top freq\n",
      "Disney+ Netflix                       \n",
      "0       1        1895      5  18+  877\n",
      "1       0         722      5  all  369\n",
      "        1           3      2   7+    2\n"
     ]
    }
   ],
   "source": [
    "age_order = ['7+', '13+', '16+', '18+', 'all']\n",
    "\n",
    "age_distribution_disney = df_disney['Age'].value_counts().reindex(age_order).fillna(0).astype(int)\n",
    "age_distribution_netflix = df_netflix['Age'].value_counts().reindex(age_order).fillna(0).astype(int)\n",
    "\n",
    "age_stats = df_filtered.groupby(['Disney+', 'Netflix'])['Age'].describe()\n",
    "\n",
    "print(\"=== Age Distribution on Disney+ ===\")\n",
    "for age_group, count in age_distribution_disney.items():\n",
    "    print(f\"{age_group}: {count} movies\")\n",
    "\n",
    "print(\"\\n=== Age Distribution on Netflix ===\")\n",
    "for age_group, count in age_distribution_netflix.items():\n",
    "    print(f\"{age_group}: {count} movies\")\n",
    "\n",
    "print(\"\\n=== Age Restrictions Statistics by Platform Combination ===\")\n",
    "print(age_stats)"
   ]
  },
  {
   "cell_type": "code",
   "execution_count": 9,
   "id": "fb6a434f",
   "metadata": {},
   "outputs": [
    {
     "data": {
      "image/png": "[encoded data removed]",
      "text/plain": [
       "<Figure size 720x432 with 1 Axes>"
      ]
     },
     "metadata": {
      "needs_background": "light"
     },
     "output_type": "display_data"
    }
   ],
   "source": [
    "age_distribution_data = {\n",
    "    'Age Group': age_order,\n",
    "    'Disney+': age_distribution_disney.values,\n",
    "    'Netflix': age_distribution_netflix.values\n",
    "}\n",
    "\n",
    "age_distribution_df = pd.DataFrame(age_distribution_data)\n",
    "\n",
    "age_distribution_melted = age_distribution_df.melt(id_vars=\"Age Group\", \n",
    "                                                   value_vars=[\"Disney+\", \"Netflix\"], \n",
    "                                                   var_name=\"Platform\", \n",
    "                                                   value_name=\"Number of Movies\")\n",
    "\n",
    "plt.figure(figsize=(10, 6))\n",
    "sns.barplot(x='Age Group', y='Number of Movies', hue='Platform', data=age_distribution_melted)\n",
    "plt.title('Age Distribution on Disney+ vs. Netflix')\n",
    "plt.xlabel('Age Group')\n",
    "plt.ylabel('Number of Movies')\n",
    "plt.show()"
   ]
  },
  {
   "cell_type": "code",
   "execution_count": 11,
   "id": "6efc5fbe",
   "metadata": {},
   "outputs": [
    {
     "name": "stdout",
     "output_type": "stream",
     "text": [
      "Rotten Tomatoes Scores on Disney+:\n",
      "count    922.000000\n",
      "mean      58.312364\n",
      "std       13.953313\n",
      "min       10.000000\n",
      "25%       48.000000\n",
      "50%       57.500000\n",
      "75%       67.750000\n",
      "max       96.000000\n",
      "Name: Rotten Tomatoes, dtype: float64\n",
      "\n",
      "Rotten Tomatoes Scores on Netflix:\n",
      "count    3688.000000\n",
      "mean       54.447939\n",
      "std        13.847615\n",
      "min        10.000000\n",
      "25%        45.000000\n",
      "50%        53.000000\n",
      "75%        63.000000\n",
      "max        98.000000\n",
      "Name: Rotten Tomatoes, dtype: float64\n"
     ]
    },
    {
     "name": "stderr",
     "output_type": "stream",
     "text": [
      "C:\\Users\\Lokesh\\AppData\\Local\\Temp/ipykernel_21240/2692406000.py:2: SettingWithCopyWarning: \n",
      "A value is trying to be set on a copy of a slice from a DataFrame.\n",
      "Try using .loc[row_indexer,col_indexer] = value instead\n",
      "\n",
      "See the caveats in the documentation: https://pandas.pydata.org/pandas-docs/stable/user_guide/indexing.html#returning-a-view-versus-a-copy\n",
      "  df_disney['Rotten Tomatoes'] = df_disney['Rotten Tomatoes'].astype(str).str.split('/').str[0].astype(float)\n",
      "C:\\Users\\Lokesh\\AppData\\Local\\Temp/ipykernel_21240/2692406000.py:3: SettingWithCopyWarning: \n",
      "A value is trying to be set on a copy of a slice from a DataFrame.\n",
      "Try using .loc[row_indexer,col_indexer] = value instead\n",
      "\n",
      "See the caveats in the documentation: https://pandas.pydata.org/pandas-docs/stable/user_guide/indexing.html#returning-a-view-versus-a-copy\n",
      "  df_netflix['Rotten Tomatoes'] = df_netflix['Rotten Tomatoes'].astype(str).str.split('/').str[0].astype(float)\n"
     ]
    }
   ],
   "source": [
    "df_disney['Rotten Tomatoes'] = df_disney['Rotten Tomatoes'].astype(str).str.split('/').str[0].astype(float)\n",
    "df_netflix['Rotten Tomatoes'] = df_netflix['Rotten Tomatoes'].astype(str).str.split('/').str[0].astype(float)\n",
    "\n",
    "df_filtered['Rotten Tomatoes'] = df_filtered['Rotten Tomatoes'].astype(str).str.split('/').str[0].astype(float)\n",
    "\n",
    "print(\"Rotten Tomatoes Scores on Disney+:\")\n",
    "print(df_disney['Rotten Tomatoes'].describe())\n",
    "\n",
    "print(\"\\nRotten Tomatoes Scores on Netflix:\")\n",
    "print(df_netflix['Rotten Tomatoes'].describe())\n",
    "\n"
   ]
  },
  {
   "cell_type": "code",
   "execution_count": 12,
   "id": "afd0cb24",
   "metadata": {},
   "outputs": [
    {
     "data": {
      "image/png": "[encoded data removed]",
      "text/plain": [
       "<Figure size 720x432 with 1 Axes>"
      ]
     },
     "metadata": {
      "needs_background": "light"
     },
     "output_type": "display_data"
    }
   ],
   "source": [
    "df_combined = pd.concat([\n",
    "    df_disney[['Rotten Tomatoes']].assign(Platform='Disney+'),\n",
    "    df_netflix[['Rotten Tomatoes']].assign(Platform='Netflix')\n",
    "])\n",
    "\n",
    "df_combined = df_combined.reset_index(drop=True)\n",
    "plt.figure(figsize=(10, 6))\n",
    "sns.histplot(data=df_combined, x='Rotten Tomatoes', hue='Platform', kde=True, bins=20, multiple=\"stack\")\n",
    "plt.title('Rotten Tomatoes Scores Distribution by Platform')\n",
    "plt.xlabel('Rotten Tomatoes Score')\n",
    "plt.ylabel('Frequency')\n",
    "plt.show()"
   ]
  },
  {
   "cell_type": "code",
   "execution_count": 13,
   "id": "1b85a955",
   "metadata": {},
   "outputs": [
    {
     "name": "stdout",
     "output_type": "stream",
     "text": [
      "Chi-Square Test Results for Age Restrictions:\n",
      "Chi2 Statistic: 1030.601144927122\n",
      "P-value: 3.701402558260122e-217\n"
     ]
    }
   ],
   "source": [
    "age_contingency_table = pd.crosstab(df_filtered['Age'], [df_filtered['Netflix'], df_filtered['Disney+']])\n",
    "chi2_stat, p_value, dof, expected = chi2_contingency(age_contingency_table)\n",
    "print(\"Chi-Square Test Results for Age Restrictions:\")\n",
    "print(f\"Chi2 Statistic: {chi2_stat}\")\n",
    "print(f\"P-value: {p_value}\")"
   ]
  },
  {
   "cell_type": "code",
   "execution_count": 14,
   "id": "a37f5f15",
   "metadata": {},
   "outputs": [
    {
     "name": "stdout",
     "output_type": "stream",
     "text": [
      "\n",
      "T-Test for Rotten Tomatoes Scores:\n",
      "T-Statistic: 7.567567531710881\n",
      "P-value: 4.5645960458960904e-14\n"
     ]
    }
   ],
   "source": [
    "disney_scores = df_disney['Rotten Tomatoes'].dropna()\n",
    "netflix_scores = df_netflix['Rotten Tomatoes'].dropna()\n",
    "t_stat, p_value_rt = ttest_ind(disney_scores, netflix_scores)\n",
    "print(\"\\nT-Test for Rotten Tomatoes Scores:\")\n",
    "print(f\"T-Statistic: {t_stat}\")\n",
    "print(f\"P-value: {p_value_rt}\")"
   ]
  },
  {
   "cell_type": "code",
   "execution_count": null,
   "id": "d025c482",
   "metadata": {},
   "outputs": [],
   "source": []
  }
 ],
 "metadata": {
  "kernelspec": {
   "display_name": "Python 3 (ipykernel)",
   "language": "python",
   "name": "python3"
  },
  "language_info": {
   "codemirror_mode": {
    "name": "ipython",
    "version": 3
   },
   "file_extension": ".py",
   "mimetype": "text/x-python",
   "name": "python",
   "nbconvert_exporter": "python",
   "pygments_lexer": "ipython3",
   "version": "3.9.7"
  }
 },
 "nbformat": 4,
 "nbformat_minor": 5
}
